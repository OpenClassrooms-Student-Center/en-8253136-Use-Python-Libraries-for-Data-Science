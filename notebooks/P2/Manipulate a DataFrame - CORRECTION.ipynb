{
 "cells": [
  {
   "cell_type": "markdown",
   "id": "58869009",
   "metadata": {},
   "source": [
    "![openclassrooms](https://s3.eu-west-1.amazonaws.com/course.oc-static.com/courses/6204541/1+HnqdJ-5ofxiPP9HIxdNdpw.jpeg)\n",
    "# Manipulate a DataFrame\n",
    "We’re now going to work on our file of real estate loans.\n",
    "Quick synopsis of the file: each row represents a loan that has been agreed with one of our customers. Each customer is uniquely identified using (yes, you've guessed it) an identifier! We have the following details:\n",
    "- The city and ZIP code of the branch where the customer took out the loan\n",
    "- The customer’s monthly income\n",
    "- The customer’s monthly repayments\n",
    "- The agreed loan term, expressed as a number of months\n",
    "- The loan type\n",
    "- The interest rate\n",
    "\n",
    "This time, your role is to modify the dataset so you can calculate the variables needed to identify customers who are approaching the limits of their repayment ability, and determine the bank’s profits.\n"
   ]
  },
  {
   "cell_type": "code",
   "execution_count": 1,
   "id": "9ddb3dce",
   "metadata": {},
   "outputs": [],
   "source": [
    "import numpy as np\n",
    "import pandas as pd"
   ]
  },
  {
   "cell_type": "markdown",
   "id": "788ee0a9",
   "metadata": {},
   "source": [
    "Let’s start off by importing our CSV file. This file can be accessed via a link to ensure it works correctly with Google Colab, but don’t worry, it’s the same file as the one you can download via the following link (right click and save as)."
   ]
  }
 ],
 "metadata": {
  "kernelspec": {
   "display_name": "Python 3 (ipykernel)",
   "language": "python",
   "name": "python3"
  },
  "language_info": {
   "codemirror_mode": {
    "name": "ipython",
    "version": 3
   },
   "file_extension": ".py",
   "mimetype": "text/x-python",
   "name": "python",
   "nbconvert_exporter": "python",
   "pygments_lexer": "ipython3",
   "version": "3.11.3"
  }
 },
 "nbformat": 4,
 "nbformat_minor": 5
}
