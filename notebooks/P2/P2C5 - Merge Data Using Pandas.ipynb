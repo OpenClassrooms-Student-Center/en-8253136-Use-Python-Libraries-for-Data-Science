{
 "cells": [
  {
   "cell_type": "markdown",
   "id": "58869009",
   "metadata": {},
   "source": [
    "![openclassrooms](https://s3.eu-west-1.amazonaws.com/course.oc-static.com/courses/6204541/1+HnqdJ-5ofxiPP9HIxdNdpw.jpeg)\n",
    "# Merge Data Using Pandas\n",
    "This time, your task will be to build a more comprehensive dataset. You’ll need to use all of the datasets we’ve provided (the two customer files and the loans file) and merge them using all of the Pandas methods we’ve covered.\n"
   ]
  },
  {
   "cell_type": "code",
   "execution_count": null,
   "id": "8ba3589b",
   "metadata": {},
   "outputs": [],
   "source": [
    "import numpy as np\n",
    "import pandas as pd"
   ]
  },
  {
   "cell_type": "code",
   "execution_count": null,
   "id": "5c4e666a",
   "metadata": {},
   "outputs": [],
   "source": [
    "# previous processing\n",
    "loans = pd.read_csv('https://raw.githubusercontent.com/OpenClassrooms-Student-Center/en-8253136-Use-Python-Libraries-for-Data-Science/main/data/loans.csv')\n",
    "\n",
    "# calculate the debt-to-income ratio\n",
    "loans['debt_to_income'] = round(loans['repayment'] * 100 / loans['income'], 2)\n",
    "\n",
    "# rename rate to interest_rate\n",
    "loans.rename(columns={'rate':'interest_rate'}, inplace=True)\n",
    "\n",
    "# calculate the total cost of the loan\n",
    "loans['total_cost'] = loans['repayment'] * loans['term']\n",
    "\n",
    "# calculate monthly profits generated\n",
    "loans['profit'] = round((loans['total_cost'] * loans['interest_rate']/100)/(24), 2)\n",
    "\n",
    "# create the risk variable\n",
    "loans['risk'] = 'No'\n",
    "loans.loc[loans['debt_to_income'] > 35, 'risk'] = 'Yes'\n",
    "\n",
    "# customer profile DataFrame\n",
    "customer_profile = loans.groupby('identifier')[['repayment','debt_to_income','total_cost','profit']].sum()\n",
    "customer_profile.reset_index(inplace=True)\n",
    "customer_profile.head()\n",
    "\n",
    "loans.head()\n"
   ]
  },
  {
   "cell_type": "markdown",
   "id": "2d38073e",
   "metadata": {},
   "source": [
    "Firstly, let’s import the two customer files:"
   ]
  },
  {
   "cell_type": "code",
   "execution_count": null,
   "id": "73f63b34",
   "metadata": {},
   "outputs": [],
   "source": [
    "customers_1 = pd.read_csv('https://raw.githubusercontent.com/OpenClassrooms-Student-Center/en-8253136-Use-Python-Libraries-for-Data-Science/main/data/customers.csv')\n",
    "customers_1.head()\n"
   ]
  },
  {
   "cell_type": "code",
   "execution_count": null,
   "id": "5f32e2a9",
   "metadata": {},
   "outputs": [],
   "source": [
    "customers_2 = pd.read_csv('https://raw.githubusercontent.com/OpenClassrooms-Student-Center/en-8253136-Use-Python-Libraries-for-Data-Science/main/data/customers_cont.csv')\n",
    "customers_2.head()\n"
   ]
  },
  {
   "cell_type": "markdown",
   "id": "a06e05bb",
   "metadata": {},
   "source": [
    "Your first task will be to bring together these two DataFrames, `customers_1` and `customers_2`, into one big DataFrame called `customers` which will contain all of our customer data."
   ]
  },
  {
   "cell_type": "code",
   "execution_count": null,
   "id": "8e55a8fe",
   "metadata": {},
   "outputs": [],
   "source": []
  },
  {
   "cell_type": "markdown",
   "id": "f1a2cc77",
   "metadata": {},
   "source": [
    "Now you’re going to merge the customer file with the customer profiles we created before. These profiles can be found in the `customer_profile` DataFrame we created previously in chapter 4. You can call this final DataFrame `data`:"
   ]
  },
  {
   "cell_type": "code",
   "execution_count": null,
   "id": "682d89f5",
   "metadata": {},
   "outputs": [],
   "source": [
    "\n"
   ]
  },
  {
   "cell_type": "markdown",
   "id": "4026d7ec",
   "metadata": {},
   "source": [
    "The bank’s marketing department has provided us with a file containing our customers' ages"
   ]
  },
  {
   "cell_type": "code",
   "execution_count": null,
   "id": "b9f6fce8",
   "metadata": {},
   "outputs": [],
   "source": [
    "customers_age = pd.read_csv('https://raw.githubusercontent.com/OpenClassrooms-Student-Center/en-8253136-Use-Python-Libraries-for-Data-Science/main/data/customers_age.csv')\n",
    "customers_age.head()\n"
   ]
  },
  {
   "cell_type": "markdown",
   "id": "444bec68",
   "metadata": {},
   "source": [
    "Add the age information to the `data` DataFrame. However, it would seem that some customers who took out a loan aren’t present in this file. We need to ensure that all of the information in our `data` DataFrame is retained, so please choose your arguments with care!"
   ]
  },
  {
   "cell_type": "code",
   "execution_count": null,
   "id": "21ac1ecf",
   "metadata": {},
   "outputs": [],
   "source": []
  },
  {
   "cell_type": "markdown",
   "id": "bbe8955b",
   "metadata": {},
   "source": [
    "*Here, we need to center our join around the `data` DataFrame (on the left in the above code). There are in fact many more customers in the customers_age file than there are in the data file. However, some of the customers in the data file don’t appear in customers_age. A left (or right) join is therefore required to ensure that we retain all information from the data file, so we’re just adding the age whenever it’s available.*"
   ]
  },
  {
   "cell_type": "code",
   "execution_count": null,
   "id": "db888773",
   "metadata": {},
   "outputs": [],
   "source": []
  },
  {
   "cell_type": "markdown",
   "id": "ab6bfa9e",
   "metadata": {},
   "source": [
    "Well done! Why don’t you compare your answers with the [solution](https://colab.research.google.com/github/OpenClassrooms-Student-Center/en-8253136-Use-Python-Libraries-for-Data-Science/blob/main/notebooks/P2/P2C5%20-%20Merge%20Data%20Using%20Pandas%20-%20CORRECTION.ipynb) now?"
   ]
  }
 ],
 "metadata": {
  "kernelspec": {
   "display_name": "Python 3 (ipykernel)",
   "language": "python",
   "name": "python3"
  },
  "language_info": {
   "codemirror_mode": {
    "name": "ipython",
    "version": 3
   },
   "file_extension": ".py",
   "mimetype": "text/x-python",
   "name": "python",
   "nbconvert_exporter": "python",
   "pygments_lexer": "ipython3",
   "version": "3.11.3"
  }
 },
 "nbformat": 4,
 "nbformat_minor": 5
}
