{
 "cells": [
  {
   "cell_type": "markdown",
   "id": "58869009",
   "metadata": {},
   "source": [
    "![openclassrooms](https://s3.eu-west-1.amazonaws.com/course.oc-static.com/courses/6204541/1+HnqdJ-5ofxiPP9HIxdNdpw.jpeg)\n",
    "# Manipulate a DataFrame\n",
    "We’re now going to work on our file of real estate loans.\n",
    "Quick synopsis of the file: each row represents a loan that has been agreed with one of our customers. Each customer is uniquely identified using (yes, you've guessed it) an identifier! We have the following details:\n",
    "- The city and ZIP code of the branch where the customer took out the loan\n",
    "- The customer’s monthly income\n",
    "- The customer’s monthly repayments\n",
    "- The agreed loan term, expressed as a number of months\n",
    "- The loan type\n",
    "- The interest rate\n",
    "\n",
    "This time, your role is to modify the dataset so you can calculate the variables needed to identify customers who are approaching the limits of their repayment ability, and determine the bank’s profits.\n"
   ]
  },
  {
   "cell_type": "code",
   "execution_count": 2,
   "id": "abd25542",
   "metadata": {},
   "outputs": [],
   "source": [
    "import numpy as np\n",
    "import pandas as pd"
   ]
  },
  {
   "cell_type": "markdown",
   "id": "3d17dd14",
   "metadata": {},
   "source": [
    "Let’s start off by importing our CSV file. This file can be accessed via a link to ensure it works correctly with Google Colab, but don’t worry, it’s the same file as the one you can download [via the following link](https://raw.githubusercontent.com/OpenClassrooms-Student-Center/en-8253136-Use-Python-Libraries-for-Data-Science/main/data/loans.csv) (right click and save as)."
   ]
  },
  {
   "cell_type": "code",
   "execution_count": 4,
   "id": "c9990880",
   "metadata": {},
   "outputs": [
    {
     "data": {
      "text/html": [
       "<div>\n",
       "<style scoped>\n",
       "    .dataframe tbody tr th:only-of-type {\n",
       "        vertical-align: middle;\n",
       "    }\n",
       "\n",
       "    .dataframe tbody tr th {\n",
       "        vertical-align: top;\n",
       "    }\n",
       "\n",
       "    .dataframe thead th {\n",
       "        text-align: right;\n",
       "    }\n",
       "</style>\n",
       "<table border=\"1\" class=\"dataframe\">\n",
       "  <thead>\n",
       "    <tr style=\"text-align: right;\">\n",
       "      <th></th>\n",
       "      <th>identifier</th>\n",
       "      <th>city</th>\n",
       "      <th>zip code</th>\n",
       "      <th>income</th>\n",
       "      <th>repayment</th>\n",
       "      <th>term</th>\n",
       "      <th>type</th>\n",
       "      <th>interest_rate</th>\n",
       "    </tr>\n",
       "  </thead>\n",
       "  <tbody>\n",
       "    <tr>\n",
       "      <th>0</th>\n",
       "      <td>0</td>\n",
       "      <td>CHICAGO</td>\n",
       "      <td>60100</td>\n",
       "      <td>3669.0</td>\n",
       "      <td>1130.05</td>\n",
       "      <td>240</td>\n",
       "      <td>real estate</td>\n",
       "      <td>1.168</td>\n",
       "    </tr>\n",
       "    <tr>\n",
       "      <th>1</th>\n",
       "      <td>1</td>\n",
       "      <td>DETROIT</td>\n",
       "      <td>48009</td>\n",
       "      <td>5310.0</td>\n",
       "      <td>240.00</td>\n",
       "      <td>64</td>\n",
       "      <td>automobile</td>\n",
       "      <td>3.701</td>\n",
       "    </tr>\n",
       "    <tr>\n",
       "      <th>2</th>\n",
       "      <td>1</td>\n",
       "      <td>DETROIT</td>\n",
       "      <td>48009</td>\n",
       "      <td>5310.0</td>\n",
       "      <td>1247.85</td>\n",
       "      <td>300</td>\n",
       "      <td>real estate</td>\n",
       "      <td>1.173</td>\n",
       "    </tr>\n",
       "    <tr>\n",
       "      <th>3</th>\n",
       "      <td>2</td>\n",
       "      <td>SAN FRANCISCO</td>\n",
       "      <td>94010</td>\n",
       "      <td>1873.0</td>\n",
       "      <td>552.54</td>\n",
       "      <td>240</td>\n",
       "      <td>real estate</td>\n",
       "      <td>0.972</td>\n",
       "    </tr>\n",
       "    <tr>\n",
       "      <th>4</th>\n",
       "      <td>3</td>\n",
       "      <td>SAN FRANCISCO</td>\n",
       "      <td>94010</td>\n",
       "      <td>1684.0</td>\n",
       "      <td>586.03</td>\n",
       "      <td>180</td>\n",
       "      <td>real estate</td>\n",
       "      <td>1.014</td>\n",
       "    </tr>\n",
       "  </tbody>\n",
       "</table>\n",
       "</div>"
      ],
      "text/plain": [
       "   identifier           city  zip code  income  repayment  term         type  \\\n",
       "0           0        CHICAGO     60100  3669.0    1130.05   240  real estate   \n",
       "1           1        DETROIT     48009  5310.0     240.00    64   automobile   \n",
       "2           1        DETROIT     48009  5310.0    1247.85   300  real estate   \n",
       "3           2  SAN FRANCISCO     94010  1873.0     552.54   240  real estate   \n",
       "4           3  SAN FRANCISCO     94010  1684.0     586.03   180  real estate   \n",
       "\n",
       "   interest_rate  \n",
       "0          1.168  \n",
       "1          3.701  \n",
       "2          1.173  \n",
       "3          0.972  \n",
       "4          1.014  "
      ]
     },
     "execution_count": 4,
     "metadata": {},
     "output_type": "execute_result"
    }
   ],
   "source": [
    "loans = pd.read_csv('https://raw.githubusercontent.com/OpenClassrooms-Student-Center/en-8253136-Use-Python-Libraries-for-Data-Science/main/data/loans.csv')\n",
    "loans.head()\n"
   ]
  },
  {
   "cell_type": "markdown",
   "id": "a889abdf",
   "metadata": {},
   "source": [
    "The first thing to do is to create a new variable to calculate the debt-to-income ratio for each individual. This ratio represents the percentage of their income that each individual can repay each month. Please round the result to two decimal places:\n"
   ]
  },
  {
   "cell_type": "code",
   "execution_count": 5,
   "id": "f7c47d3d",
   "metadata": {},
   "outputs": [],
   "source": []
  },
  {
   "cell_type": "markdown",
   "id": "b66e1429",
   "metadata": {},
   "source": [
    "To clarify the name, rename the rate variable to interest_rate:"
   ]
  },
  {
   "cell_type": "code",
   "execution_count": 6,
   "id": "0bcd8c19",
   "metadata": {},
   "outputs": [],
   "source": []
  },
  {
   "cell_type": "markdown",
   "id": "c4f0ccb1",
   "metadata": {},
   "source": [
    "The DataFrame should look like this:"
   ]
  },
  {
   "cell_type": "code",
   "execution_count": null,
   "id": "3d2a2316",
   "metadata": {},
   "outputs": [],
   "source": [
    "loans.head()"
   ]
  },
  {
   "cell_type": "markdown",
   "id": "9bf12f64",
   "metadata": {},
   "source": [
    "Now, we’re going to create two final variables:\n",
    "- `total_cost` to represent the total cost of the loan based on `repayment amount` and `loan term`\n",
    "- `profit` to represent the **monthly profit** generated by this loan for the bank\n",
    "\n",
    "We’ll simplify the calculation of the profit as follows:\n",
    "\n",
    "profit = $\\dfrac{C * T}{24} $\n",
    "\n",
    "where:\n",
    "- C = total cost of the loan\n",
    "- T = interest rate\n"
   ]
  },
  {
   "cell_type": "code",
   "execution_count": 8,
   "id": "0e9d04b0",
   "metadata": {},
   "outputs": [],
   "source": []
  },
  {
   "cell_type": "markdown",
   "id": "09180f2d",
   "metadata": {},
   "source": [
    "You should get the following as your first five rows:"
   ]
  },
  {
   "cell_type": "code",
   "execution_count": null,
   "id": "6363d87e",
   "metadata": {},
   "outputs": [],
   "source": [
    "loans.head()"
   ]
  },
  {
   "cell_type": "markdown",
   "id": "54a6f753",
   "metadata": {},
   "source": [
    "Now, we want to know the five loans that are generating the most profit for us. Implement a solution to display them:"
   ]
  },
  {
   "cell_type": "code",
   "execution_count": null,
   "id": "d760a92f",
   "metadata": {},
   "outputs": [],
   "source": []
  },
  {
   "cell_type": "markdown",
   "id": "68286f0a",
   "metadata": {},
   "source": [
    "Excellent! Why don’t you compare your answers with the [solution](https://colab.research.google.com/github/OpenClassrooms-Student-Center/en-8253136-Use-Python-Libraries-for-Data-Science/blob/main/notebooks/P2/P2C2%20-%20Manipulate%20a%20DataFrame%20-%20CORRECTION.ipynb)?"
   ]
  }
 ],
 "metadata": {
  "kernelspec": {
   "display_name": "Python 3 (ipykernel)",
   "language": "python",
   "name": "python3"
  },
  "language_info": {
   "codemirror_mode": {
    "name": "ipython",
    "version": 3
   },
   "file_extension": ".py",
   "mimetype": "text/x-python",
   "name": "python",
   "nbconvert_exporter": "python",
   "pygments_lexer": "ipython3",
   "version": "3.11.3"
  }
 },
 "nbformat": 4,
 "nbformat_minor": 5
}
