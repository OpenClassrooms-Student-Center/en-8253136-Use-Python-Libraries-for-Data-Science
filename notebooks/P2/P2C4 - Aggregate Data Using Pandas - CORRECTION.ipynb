{
 "cells": [
  {
   "cell_type": "markdown",
   "id": "58869009",
   "metadata": {},
   "source": [
    "![openclassrooms](https://s3.eu-west-1.amazonaws.com/course.oc-static.com/courses/6204541/1+HnqdJ-5ofxiPP9HIxdNdpw.jpeg)\n",
    "# Aggregate Data Using Pandas\n",
    "Based on the data you’ve previously provided, the loans department manager comes back to you with an observation that you’d noticed, too. Some customers have taken out several loans with your bank. This might skew the calculations we’ve done up to now.\n",
    "\n",
    "The manager comes up with some additional requirements that will need you to apply different aggregate functions.\n"
   ]
  },
  {
   "cell_type": "code",
   "execution_count": 1,
   "id": "1686985b",
   "metadata": {},
   "outputs": [],
   "source": [
    "import numpy as np\n",
    "import pandas as pd"
   ]
  },
  {
   "cell_type": "code",
   "execution_count": 2,
   "id": "ab6f154c",
   "metadata": {},
   "outputs": [
    {
     "data": {
      "text/html": [
       "<div>\n",
       "<style scoped>\n",
       "    .dataframe tbody tr th:only-of-type {\n",
       "        vertical-align: middle;\n",
       "    }\n",
       "\n",
       "    .dataframe tbody tr th {\n",
       "        vertical-align: top;\n",
       "    }\n",
       "\n",
       "    .dataframe thead th {\n",
       "        text-align: right;\n",
       "    }\n",
       "</style>\n",
       "<table border=\"1\" class=\"dataframe\">\n",
       "  <thead>\n",
       "    <tr style=\"text-align: right;\">\n",
       "      <th></th>\n",
       "      <th>identifier</th>\n",
       "      <th>city</th>\n",
       "      <th>zip code</th>\n",
       "      <th>income</th>\n",
       "      <th>repayment</th>\n",
       "      <th>term</th>\n",
       "      <th>type</th>\n",
       "      <th>interest_rate</th>\n",
       "      <th>debt_to_income</th>\n",
       "      <th>total_cost</th>\n",
       "      <th>profit</th>\n",
       "      <th>risk</th>\n",
       "    </tr>\n",
       "  </thead>\n",
       "  <tbody>\n",
       "    <tr>\n",
       "      <th>0</th>\n",
       "      <td>0</td>\n",
       "      <td>CHICAGO</td>\n",
       "      <td>60100</td>\n",
       "      <td>3669.0</td>\n",
       "      <td>1130.05</td>\n",
       "      <td>240</td>\n",
       "      <td>real estate</td>\n",
       "      <td>1.168</td>\n",
       "      <td>30.80</td>\n",
       "      <td>271212.0</td>\n",
       "      <td>131.99</td>\n",
       "      <td>No</td>\n",
       "    </tr>\n",
       "    <tr>\n",
       "      <th>1</th>\n",
       "      <td>1</td>\n",
       "      <td>DETROIT</td>\n",
       "      <td>48009</td>\n",
       "      <td>5310.0</td>\n",
       "      <td>240.00</td>\n",
       "      <td>64</td>\n",
       "      <td>automobile</td>\n",
       "      <td>3.701</td>\n",
       "      <td>4.52</td>\n",
       "      <td>15360.0</td>\n",
       "      <td>23.69</td>\n",
       "      <td>No</td>\n",
       "    </tr>\n",
       "    <tr>\n",
       "      <th>2</th>\n",
       "      <td>1</td>\n",
       "      <td>DETROIT</td>\n",
       "      <td>48009</td>\n",
       "      <td>5310.0</td>\n",
       "      <td>1247.85</td>\n",
       "      <td>300</td>\n",
       "      <td>real estate</td>\n",
       "      <td>1.173</td>\n",
       "      <td>23.50</td>\n",
       "      <td>374355.0</td>\n",
       "      <td>182.97</td>\n",
       "      <td>No</td>\n",
       "    </tr>\n",
       "    <tr>\n",
       "      <th>3</th>\n",
       "      <td>2</td>\n",
       "      <td>SAN FRANCISCO</td>\n",
       "      <td>94010</td>\n",
       "      <td>1873.0</td>\n",
       "      <td>552.54</td>\n",
       "      <td>240</td>\n",
       "      <td>real estate</td>\n",
       "      <td>0.972</td>\n",
       "      <td>29.50</td>\n",
       "      <td>132609.6</td>\n",
       "      <td>53.71</td>\n",
       "      <td>No</td>\n",
       "    </tr>\n",
       "    <tr>\n",
       "      <th>4</th>\n",
       "      <td>3</td>\n",
       "      <td>SAN FRANCISCO</td>\n",
       "      <td>94010</td>\n",
       "      <td>1684.0</td>\n",
       "      <td>586.03</td>\n",
       "      <td>180</td>\n",
       "      <td>real estate</td>\n",
       "      <td>1.014</td>\n",
       "      <td>34.80</td>\n",
       "      <td>105485.4</td>\n",
       "      <td>44.57</td>\n",
       "      <td>No</td>\n",
       "    </tr>\n",
       "  </tbody>\n",
       "</table>\n",
       "</div>"
      ],
      "text/plain": [
       "   identifier           city  zip code  income  repayment  term         type  \\\n",
       "0           0        CHICAGO     60100  3669.0    1130.05   240  real estate   \n",
       "1           1        DETROIT     48009  5310.0     240.00    64   automobile   \n",
       "2           1        DETROIT     48009  5310.0    1247.85   300  real estate   \n",
       "3           2  SAN FRANCISCO     94010  1873.0     552.54   240  real estate   \n",
       "4           3  SAN FRANCISCO     94010  1684.0     586.03   180  real estate   \n",
       "\n",
       "   interest_rate  debt_to_income  total_cost  profit risk  \n",
       "0          1.168           30.80    271212.0  131.99   No  \n",
       "1          3.701            4.52     15360.0   23.69   No  \n",
       "2          1.173           23.50    374355.0  182.97   No  \n",
       "3          0.972           29.50    132609.6   53.71   No  \n",
       "4          1.014           34.80    105485.4   44.57   No  "
      ]
     },
     "execution_count": 2,
     "metadata": {},
     "output_type": "execute_result"
    }
   ],
   "source": [
    "# previous processing\n",
    "loans = pd.read_csv('https://raw.githubusercontent.com/OpenClassrooms-Student-Center/en-8253136-Use-Python-Libraries-for-Data-Science/main/data/loans.csv')\n",
    "\n",
    "# calculate the debt-to-income ratio\n",
    "loans['debt_to_income'] = round(loans['repayment'] * 100 / loans['income'], 2)\n",
    "\n",
    "# rename rate to interest_rate\n",
    "loans.rename(columns={'rate':'interest_rate'}, inplace=True)\n",
    "\n",
    "# calculate the total cost of the loan\n",
    "loans['total_cost'] = loans['repayment'] * loans['term']\n",
    "\n",
    "# calculate monthly profits generated\n",
    "loans['profit'] = round((loans['total_cost'] * loans['interest_rate']/100)/(24), 2)\n",
    "\n",
    "# create the risk variable\n",
    "loans['risk'] = 'No'\n",
    "loans.loc[loans['debt_to_income'] > 35, 'risk'] = 'Yes'\n",
    "\n",
    "loans.head()\n"
   ]
  },
  {
   "cell_type": "markdown",
   "id": "bd1f8b41",
   "metadata": {},
   "source": [
    "Could you create a customer profile DataFrame to work around this issue?\n",
    "\n",
    "By customer profile, we mean a DataFrame where there is just one row for each customer with a summary of their information (repayment amount, debt-to-income ratio, total cost, and profits generated)\n"
   ]
  },
  {
   "cell_type": "code",
   "execution_count": 3,
   "id": "40008ce6",
   "metadata": {},
   "outputs": [
    {
     "data": {
      "text/html": [
       "<div>\n",
       "<style scoped>\n",
       "    .dataframe tbody tr th:only-of-type {\n",
       "        vertical-align: middle;\n",
       "    }\n",
       "\n",
       "    .dataframe tbody tr th {\n",
       "        vertical-align: top;\n",
       "    }\n",
       "\n",
       "    .dataframe thead th {\n",
       "        text-align: right;\n",
       "    }\n",
       "</style>\n",
       "<table border=\"1\" class=\"dataframe\">\n",
       "  <thead>\n",
       "    <tr style=\"text-align: right;\">\n",
       "      <th></th>\n",
       "      <th>identifier</th>\n",
       "      <th>repayment</th>\n",
       "      <th>debt_to_income</th>\n",
       "      <th>total_cost</th>\n",
       "      <th>profit</th>\n",
       "    </tr>\n",
       "  </thead>\n",
       "  <tbody>\n",
       "    <tr>\n",
       "      <th>0</th>\n",
       "      <td>0</td>\n",
       "      <td>1130.05</td>\n",
       "      <td>30.80</td>\n",
       "      <td>271212.0</td>\n",
       "      <td>131.99</td>\n",
       "    </tr>\n",
       "    <tr>\n",
       "      <th>1</th>\n",
       "      <td>1</td>\n",
       "      <td>1487.85</td>\n",
       "      <td>28.02</td>\n",
       "      <td>389715.0</td>\n",
       "      <td>206.66</td>\n",
       "    </tr>\n",
       "    <tr>\n",
       "      <th>2</th>\n",
       "      <td>2</td>\n",
       "      <td>552.54</td>\n",
       "      <td>29.50</td>\n",
       "      <td>132609.6</td>\n",
       "      <td>53.71</td>\n",
       "    </tr>\n",
       "    <tr>\n",
       "      <th>3</th>\n",
       "      <td>3</td>\n",
       "      <td>586.03</td>\n",
       "      <td>34.80</td>\n",
       "      <td>105485.4</td>\n",
       "      <td>44.57</td>\n",
       "    </tr>\n",
       "    <tr>\n",
       "      <th>4</th>\n",
       "      <td>4</td>\n",
       "      <td>423.61</td>\n",
       "      <td>28.70</td>\n",
       "      <td>101666.4</td>\n",
       "      <td>51.21</td>\n",
       "    </tr>\n",
       "  </tbody>\n",
       "</table>\n",
       "</div>"
      ],
      "text/plain": [
       "   identifier  repayment  debt_to_income  total_cost  profit\n",
       "0           0    1130.05           30.80    271212.0  131.99\n",
       "1           1    1487.85           28.02    389715.0  206.66\n",
       "2           2     552.54           29.50    132609.6   53.71\n",
       "3           3     586.03           34.80    105485.4   44.57\n",
       "4           4     423.61           28.70    101666.4   51.21"
      ]
     },
     "execution_count": 3,
     "metadata": {},
     "output_type": "execute_result"
    }
   ],
   "source": [
    "customer_profile = loans.groupby('identifier')[['repayment','debt_to_income','total_cost','profit']].sum()\n",
    "customer_profile.reset_index(inplace=True)\n",
    "customer_profile.head()\n"
   ]
  },
  {
   "cell_type": "markdown",
   "id": "0aebf69c",
   "metadata": {},
   "source": [
    "Recalculate the exact number of people who represent a banking risk based on the debt-to-income ratio:"
   ]
  },
  {
   "cell_type": "code",
   "execution_count": 5,
   "id": "3318d787",
   "metadata": {},
   "outputs": [
    {
     "name": "stdout",
     "output_type": "stream",
     "text": [
      "There are 62 customers who have exceeded the permitted threshold\n"
     ]
    }
   ],
   "source": [
    "count_high_risk_cust = customer_profile.loc[customer_profile['debt_to_income'] > 35, :].shape[0]\n",
    "print('There are', count_high_risk_cust, 'customers who have exceeded the permitted threshold')\n"
   ]
  },
  {
   "cell_type": "markdown",
   "id": "1be719c5",
   "metadata": {},
   "source": [
    "Calculate the total profit earned at each branch by loan type. You need to present your results in the form of a simple table (using `group_by`):"
   ]
  },
  {
   "cell_type": "code",
   "execution_count": 6,
   "id": "f98886d3",
   "metadata": {},
   "outputs": [
    {
     "data": {
      "text/plain": [
       "city           type       \n",
       "BALTIMORE      real estate    1681.32\n",
       "CHICAGO        automobile       61.22\n",
       "               real estate    2076.85\n",
       "DETROIT        automobile       99.50\n",
       "               real estate    9916.85\n",
       "NEW YORK CITY  automobile       31.15\n",
       "               real estate    2651.60\n",
       "SAN FRANCISCO  automobile       61.36\n",
       "               real estate    4334.55\n",
       "SEATTLE        automobile       47.39\n",
       "               real estate    2967.41\n",
       "Name: profit, dtype: float64"
      ]
     },
     "execution_count": 6,
     "metadata": {},
     "output_type": "execute_result"
    }
   ],
   "source": [
    "loans.groupby(['city','type'])['profit'].sum()"
   ]
  },
  {
   "cell_type": "markdown",
   "id": "9df64e35",
   "metadata": {},
   "source": [
    "To develop this further, we’d like to have a two-way table (created using `pivot_table`) showing average profit generated by each branch for each type of loan:"
   ]
  },
  {
   "cell_type": "code",
   "execution_count": 7,
   "id": "e5b1ed62",
   "metadata": {},
   "outputs": [
    {
     "data": {
      "text/html": [
       "<div>\n",
       "<style scoped>\n",
       "    .dataframe tbody tr th:only-of-type {\n",
       "        vertical-align: middle;\n",
       "    }\n",
       "\n",
       "    .dataframe tbody tr th {\n",
       "        vertical-align: top;\n",
       "    }\n",
       "\n",
       "    .dataframe thead th {\n",
       "        text-align: right;\n",
       "    }\n",
       "</style>\n",
       "<table border=\"1\" class=\"dataframe\">\n",
       "  <thead>\n",
       "    <tr style=\"text-align: right;\">\n",
       "      <th>type</th>\n",
       "      <th>automobile</th>\n",
       "      <th>real estate</th>\n",
       "    </tr>\n",
       "    <tr>\n",
       "      <th>city</th>\n",
       "      <th></th>\n",
       "      <th></th>\n",
       "    </tr>\n",
       "  </thead>\n",
       "  <tbody>\n",
       "    <tr>\n",
       "      <th>BALTIMORE</th>\n",
       "      <td>NaN</td>\n",
       "      <td>105.082500</td>\n",
       "    </tr>\n",
       "    <tr>\n",
       "      <th>CHICAGO</th>\n",
       "      <td>20.406667</td>\n",
       "      <td>86.535417</td>\n",
       "    </tr>\n",
       "    <tr>\n",
       "      <th>DETROIT</th>\n",
       "      <td>19.900000</td>\n",
       "      <td>137.734028</td>\n",
       "    </tr>\n",
       "    <tr>\n",
       "      <th>NEW YORK CITY</th>\n",
       "      <td>15.575000</td>\n",
       "      <td>139.557895</td>\n",
       "    </tr>\n",
       "    <tr>\n",
       "      <th>SAN FRANCISCO</th>\n",
       "      <td>20.453333</td>\n",
       "      <td>60.202083</td>\n",
       "    </tr>\n",
       "    <tr>\n",
       "      <th>SEATTLE</th>\n",
       "      <td>15.796667</td>\n",
       "      <td>118.696400</td>\n",
       "    </tr>\n",
       "  </tbody>\n",
       "</table>\n",
       "</div>"
      ],
      "text/plain": [
       "type           automobile  real estate\n",
       "city                                  \n",
       "BALTIMORE             NaN   105.082500\n",
       "CHICAGO         20.406667    86.535417\n",
       "DETROIT         19.900000   137.734028\n",
       "NEW YORK CITY   15.575000   139.557895\n",
       "SAN FRANCISCO   20.453333    60.202083\n",
       "SEATTLE         15.796667   118.696400"
      ]
     },
     "execution_count": 7,
     "metadata": {},
     "output_type": "execute_result"
    }
   ],
   "source": [
    "loans.pivot_table(index='city', columns='type', values='profit', aggfunc=np.mean)"
   ]
  },
  {
   "cell_type": "markdown",
   "id": "16880429",
   "metadata": {},
   "source": [
    "Which city has the most potential for growth in real estate loans?"
   ]
  },
  {
   "cell_type": "markdown",
   "id": "cd832516",
   "metadata": {},
   "source": [
    "**New York City (or Detroit to a lesser degree). This city has the highest profit margin on real estate loans.**"
   ]
  },
  {
   "cell_type": "code",
   "execution_count": null,
   "id": "2a35cd55",
   "metadata": {},
   "outputs": [],
   "source": []
  }
 ],
 "metadata": {
  "kernelspec": {
   "display_name": "Python 3 (ipykernel)",
   "language": "python",
   "name": "python3"
  },
  "language_info": {
   "codemirror_mode": {
    "name": "ipython",
    "version": 3
   },
   "file_extension": ".py",
   "mimetype": "text/x-python",
   "name": "python",
   "nbconvert_exporter": "python",
   "pygments_lexer": "ipython3",
   "version": "3.11.3"
  }
 },
 "nbformat": 4,
 "nbformat_minor": 5
}
