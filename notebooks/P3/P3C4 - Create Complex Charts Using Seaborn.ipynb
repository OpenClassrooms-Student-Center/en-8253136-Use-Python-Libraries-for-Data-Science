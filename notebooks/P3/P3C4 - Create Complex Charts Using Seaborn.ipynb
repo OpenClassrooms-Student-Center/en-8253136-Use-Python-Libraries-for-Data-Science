{
 "cells": [
  {
   "cell_type": "markdown",
   "id": "58869009",
   "metadata": {},
   "source": [
    "![openclassrooms](https://s3.eu-west-1.amazonaws.com/course.oc-static.com/courses/6204541/1+HnqdJ-5ofxiPP9HIxdNdpw.jpeg)\n",
    "# Create Complex Charts Using Seaborn\n",
    "The monthly report is usually created using Matplotlib. Your task is to make the report more visually appealing using Seaborn.\n",
    "\n",
    "Your objective is to re-do the work you did previously, but this time using Seaborn. As well as creating the charts, your manager has snuck in some additional requirements.\n",
    "\n",
    "The charts you need to produce are as follows:\n",
    "- Proportion of each type of loan\n",
    "- Monthly profit based on customer income\n",
    "- Profit distribution\n",
    "- Total monthly profit per branch\n"
   ]
  },
  {
   "cell_type": "code",
   "execution_count": 9,
   "id": "0df9c328",
   "metadata": {},
   "outputs": [],
   "source": [
    "import numpy as np\n",
    "import pandas as pd\n",
    "import matplotlib.pyplot as plt\n",
    "import seaborn as sns"
   ]
  },
  {
   "cell_type": "markdown",
   "id": "6adba9e8",
   "metadata": {},
   "source": [
    "To create these different charts, we’re going to use the enhanced loan data file ([see previous exercise](https://colab.research.google.com/github/OpenClassrooms-Student-Center/en-8253136-Use-Python-Libraries-for-Data-Science/blob/main/notebooks/P2/P2C3%20-%20Filter%20Data%20in%20a%20DataFrame%20-%20CORRECTION.ipynb)) that you can find [here](https://raw.githubusercontent.com/OpenClassrooms-Student-Center/en-8253136-Use-Python-Libraries-for-Data-Science/main/data/loans_final.csv):"
   ]
  },
  {
   "cell_type": "code",
   "execution_count": 10,
   "id": "306b8874",
   "metadata": {},
   "outputs": [
    {
     "data": {
      "text/html": [
       "<div>\n",
       "<style scoped>\n",
       "    .dataframe tbody tr th:only-of-type {\n",
       "        vertical-align: middle;\n",
       "    }\n",
       "\n",
       "    .dataframe tbody tr th {\n",
       "        vertical-align: top;\n",
       "    }\n",
       "\n",
       "    .dataframe thead th {\n",
       "        text-align: right;\n",
       "    }\n",
       "</style>\n",
       "<table border=\"1\" class=\"dataframe\">\n",
       "  <thead>\n",
       "    <tr style=\"text-align: right;\">\n",
       "      <th></th>\n",
       "      <th>identifier</th>\n",
       "      <th>city</th>\n",
       "      <th>zip code</th>\n",
       "      <th>income</th>\n",
       "      <th>repayment</th>\n",
       "      <th>term</th>\n",
       "      <th>type</th>\n",
       "      <th>interest_rate</th>\n",
       "      <th>debt_to_income</th>\n",
       "      <th>total_cost</th>\n",
       "      <th>profit</th>\n",
       "      <th>risk</th>\n",
       "    </tr>\n",
       "  </thead>\n",
       "  <tbody>\n",
       "    <tr>\n",
       "      <th>0</th>\n",
       "      <td>0</td>\n",
       "      <td>CHICAGO</td>\n",
       "      <td>60100</td>\n",
       "      <td>3669.0</td>\n",
       "      <td>1130.05</td>\n",
       "      <td>240</td>\n",
       "      <td>real estate</td>\n",
       "      <td>1.168</td>\n",
       "      <td>30.80</td>\n",
       "      <td>271212.0</td>\n",
       "      <td>131.99</td>\n",
       "      <td>No</td>\n",
       "    </tr>\n",
       "    <tr>\n",
       "      <th>1</th>\n",
       "      <td>1</td>\n",
       "      <td>DETROIT</td>\n",
       "      <td>48009</td>\n",
       "      <td>5310.0</td>\n",
       "      <td>240.00</td>\n",
       "      <td>64</td>\n",
       "      <td>automobile</td>\n",
       "      <td>3.701</td>\n",
       "      <td>4.52</td>\n",
       "      <td>15360.0</td>\n",
       "      <td>23.69</td>\n",
       "      <td>No</td>\n",
       "    </tr>\n",
       "    <tr>\n",
       "      <th>2</th>\n",
       "      <td>1</td>\n",
       "      <td>DETROIT</td>\n",
       "      <td>48009</td>\n",
       "      <td>5310.0</td>\n",
       "      <td>1247.85</td>\n",
       "      <td>300</td>\n",
       "      <td>real estate</td>\n",
       "      <td>1.173</td>\n",
       "      <td>23.50</td>\n",
       "      <td>374355.0</td>\n",
       "      <td>182.97</td>\n",
       "      <td>No</td>\n",
       "    </tr>\n",
       "    <tr>\n",
       "      <th>3</th>\n",
       "      <td>2</td>\n",
       "      <td>SAN FRANCISCO</td>\n",
       "      <td>94010</td>\n",
       "      <td>1873.0</td>\n",
       "      <td>552.54</td>\n",
       "      <td>240</td>\n",
       "      <td>real estate</td>\n",
       "      <td>0.972</td>\n",
       "      <td>29.50</td>\n",
       "      <td>132609.6</td>\n",
       "      <td>53.71</td>\n",
       "      <td>No</td>\n",
       "    </tr>\n",
       "    <tr>\n",
       "      <th>4</th>\n",
       "      <td>3</td>\n",
       "      <td>SAN FRANCISCO</td>\n",
       "      <td>94010</td>\n",
       "      <td>1684.0</td>\n",
       "      <td>586.03</td>\n",
       "      <td>180</td>\n",
       "      <td>real estate</td>\n",
       "      <td>1.014</td>\n",
       "      <td>34.80</td>\n",
       "      <td>105485.4</td>\n",
       "      <td>44.57</td>\n",
       "      <td>No</td>\n",
       "    </tr>\n",
       "  </tbody>\n",
       "</table>\n",
       "</div>"
      ],
      "text/plain": [
       "   identifier           city  zip code  income  repayment  term         type  \\\n",
       "0           0        CHICAGO     60100  3669.0    1130.05   240  real estate   \n",
       "1           1        DETROIT     48009  5310.0     240.00    64   automobile   \n",
       "2           1        DETROIT     48009  5310.0    1247.85   300  real estate   \n",
       "3           2  SAN FRANCISCO     94010  1873.0     552.54   240  real estate   \n",
       "4           3  SAN FRANCISCO     94010  1684.0     586.03   180  real estate   \n",
       "\n",
       "   interest_rate  debt_to_income  total_cost  profit risk  \n",
       "0          1.168           30.80    271212.0  131.99   No  \n",
       "1          3.701            4.52     15360.0   23.69   No  \n",
       "2          1.173           23.50    374355.0  182.97   No  \n",
       "3          0.972           29.50    132609.6   53.71   No  \n",
       "4          1.014           34.80    105485.4   44.57   No  "
      ]
     },
     "execution_count": 10,
     "metadata": {},
     "output_type": "execute_result"
    }
   ],
   "source": [
    "loans = pd.read_csv('https://raw.githubusercontent.com/OpenClassrooms-Student-Center/en-8253136-Use-Python-Libraries-for-Data-Science/main/data/loans_final.csv')\n",
    "\n",
    "loans.head()\n"
   ]
  },
  {
   "cell_type": "markdown",
   "id": "5ff4450a",
   "metadata": {},
   "source": [
    "## 1. Proportion of each type of loan\n",
    "To create this chart, you can obviously reuse aggregate functions, but the best method is to let Seaborn do all the work, using the [countplot](https://seaborn.pydata.org/generated/seaborn.countplot.html) function"
   ]
  },
  {
   "cell_type": "code",
   "execution_count": null,
   "id": "4de95aac",
   "metadata": {},
   "outputs": [],
   "source": [
    "\n"
   ]
  },
  {
   "cell_type": "markdown",
   "id": "ccefc7e8",
   "metadata": {},
   "source": [
    "## 2. Monthly profit based on customer income for real estate loans\n",
    "When you create this chart, add different colors for the different branches arranging the loans\n"
   ]
  },
  {
   "cell_type": "code",
   "execution_count": null,
   "id": "77a2deba",
   "metadata": {},
   "outputs": [],
   "source": []
  },
  {
   "cell_type": "markdown",
   "id": "7ef751fd",
   "metadata": {},
   "source": [
    "## 3. Profit distribution\n",
    "We want to create a standard histogram and a density chart. You’ll need the following functions:\n",
    "- [histplot](https://seaborn.pydata.org/generated/seaborn.histplot.html) for the histogram\n",
    "- [kdeplot](https://seaborn.pydata.org/generated/seaborn.kdeplot.html) for the density chart"
   ]
  },
  {
   "cell_type": "code",
   "execution_count": null,
   "id": "1dd0768b",
   "metadata": {},
   "outputs": [],
   "source": []
  },
  {
   "cell_type": "markdown",
   "id": "7832a4ae",
   "metadata": {},
   "source": [
    "## 4. Total monthly profit per branch\n",
    "For this chart, we're going to want two bars for each city: one for each type of loan.\n"
   ]
  },
  {
   "cell_type": "code",
   "execution_count": null,
   "id": "6f84b54c",
   "metadata": {},
   "outputs": [],
   "source": []
  },
  {
   "cell_type": "markdown",
   "id": "978de7e5",
   "metadata": {},
   "source": [
    "Great stuff! Why don’t you compare your answers with my [solution](https://colab.research.google.com/github/OpenClassrooms-Student-Center/en-8253136-Use-Python-Libraries-for-Data-Science/blob/main/notebooks/P3/P3C4%20-%20Create%20Complex%20Charts%20Using%20Seaborn%20-%20CORRECTION.ipynb)?"
   ]
  },
  {
   "cell_type": "markdown",
   "id": "ce14e244",
   "metadata": {},
   "source": []
  }
 ],
 "metadata": {
  "kernelspec": {
   "display_name": "Python 3 (ipykernel)",
   "language": "python",
   "name": "python3"
  },
  "language_info": {
   "codemirror_mode": {
    "name": "ipython",
    "version": 3
   },
   "file_extension": ".py",
   "mimetype": "text/x-python",
   "name": "python",
   "nbconvert_exporter": "python",
   "pygments_lexer": "ipython3",
   "version": "3.11.3"
  }
 },
 "nbformat": 4,
 "nbformat_minor": 5
}
