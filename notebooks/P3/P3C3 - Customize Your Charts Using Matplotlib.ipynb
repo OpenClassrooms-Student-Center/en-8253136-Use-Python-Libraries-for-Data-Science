{
 "cells": [
  {
   "cell_type": "markdown",
   "id": "58869009",
   "metadata": {},
   "source": [
    "![openclassrooms](https://s3.eu-west-1.amazonaws.com/course.oc-static.com/courses/6204541/1+HnqdJ-5ofxiPP9HIxdNdpw.jpeg)\n",
    "# Customize Your Charts Using Matplotlib\n",
    "Monthly profits by loan type for the year 2021 have just been released at the branch where you work. As part of the monthly reporting cycle, you’ve been asked to create a special chart to show profits changing over time by loan type. We have the following data available:\n"
   ]
  },
  {
   "cell_type": "code",
   "execution_count": 1,
   "id": "8dfdd973",
   "metadata": {},
   "outputs": [],
   "source": [
    "import numpy as np\n",
    "import pandas as pd\n",
    "import matplotlib.pyplot as plt"
   ]
  },
  {
   "cell_type": "code",
   "execution_count": 2,
   "id": "05ff4da9",
   "metadata": {},
   "outputs": [
    {
     "data": {
      "text/html": [
       "<div>\n",
       "<style scoped>\n",
       "    .dataframe tbody tr th:only-of-type {\n",
       "        vertical-align: middle;\n",
       "    }\n",
       "\n",
       "    .dataframe tbody tr th {\n",
       "        vertical-align: top;\n",
       "    }\n",
       "\n",
       "    .dataframe thead th {\n",
       "        text-align: right;\n",
       "    }\n",
       "</style>\n",
       "<table border=\"1\" class=\"dataframe\">\n",
       "  <thead>\n",
       "    <tr style=\"text-align: right;\">\n",
       "      <th></th>\n",
       "      <th>date</th>\n",
       "      <th>real estate</th>\n",
       "      <th>vehicle</th>\n",
       "      <th>consumer</th>\n",
       "    </tr>\n",
       "  </thead>\n",
       "  <tbody>\n",
       "    <tr>\n",
       "      <th>0</th>\n",
       "      <td>2021-01-01</td>\n",
       "      <td>10439</td>\n",
       "      <td>5096</td>\n",
       "      <td>3808</td>\n",
       "    </tr>\n",
       "    <tr>\n",
       "      <th>1</th>\n",
       "      <td>2021-02-01</td>\n",
       "      <td>11266</td>\n",
       "      <td>5146</td>\n",
       "      <td>5838</td>\n",
       "    </tr>\n",
       "    <tr>\n",
       "      <th>2</th>\n",
       "      <td>2021-03-01</td>\n",
       "      <td>11315</td>\n",
       "      <td>5276</td>\n",
       "      <td>5601</td>\n",
       "    </tr>\n",
       "    <tr>\n",
       "      <th>3</th>\n",
       "      <td>2021-04-01</td>\n",
       "      <td>11456</td>\n",
       "      <td>5067</td>\n",
       "      <td>3639</td>\n",
       "    </tr>\n",
       "    <tr>\n",
       "      <th>4</th>\n",
       "      <td>2021-05-01</td>\n",
       "      <td>10816</td>\n",
       "      <td>4937</td>\n",
       "      <td>5273</td>\n",
       "    </tr>\n",
       "  </tbody>\n",
       "</table>\n",
       "</div>"
      ],
      "text/plain": [
       "        date  real estate  vehicle  consumer\n",
       "0 2021-01-01        10439     5096      3808\n",
       "1 2021-02-01        11266     5146      5838\n",
       "2 2021-03-01        11315     5276      5601\n",
       "3 2021-04-01        11456     5067      3639\n",
       "4 2021-05-01        10816     4937      5273"
      ]
     },
     "execution_count": 2,
     "metadata": {},
     "output_type": "execute_result"
    }
   ],
   "source": [
    "revenue = pd.read_csv('https://raw.githubusercontent.com/OpenClassrooms-Student-Center/en-8253136-Use-Python-Libraries-for-Data-Science/main/data/CA.csv')\n",
    "revenue['date'] = pd.to_datetime(revenue['date'])\n",
    "revenue.head()"
   ]
  },
  {
   "cell_type": "markdown",
   "id": "5065925c",
   "metadata": {},
   "source": [
    "Your objective is to create the following chart: \n",
    "\n",
    "![image-3.png](https://github.com/OpenClassrooms-Student-Center/en-8253136-Use-Python-Libraries-for-Data-Science/blob/main/notebooks/P3/img.png?raw=true)"
   ]
  },
  {
   "cell_type": "markdown",
   "id": "628c1709",
   "metadata": {},
   "source": [
    "Here’s a quick explanation of the various elements:\n",
    "- The chart window size is 10x7.\n",
    "- A line has been plotted for each type of loan with a line width of 3.\n",
    "- A legend has been added.\n",
    "- A title has been added to the y-axis.\n",
    "- The font size for the ticks has been set to 11.\n",
    "- The font size for the title has been set to 14.\n",
    "- The gridlines are showing in gray with a width of 0.5.\n"
   ]
  },
  {
   "cell_type": "code",
   "execution_count": null,
   "id": "6de4b8de",
   "metadata": {},
   "outputs": [],
   "source": []
  },
  {
   "cell_type": "markdown",
   "id": "0ad34f9f",
   "metadata": {},
   "source": [
    "Now you can compare your result with the solution."
   ]
  }
 ],
 "metadata": {
  "kernelspec": {
   "display_name": "Python 3 (ipykernel)",
   "language": "python",
   "name": "python3"
  },
  "language_info": {
   "codemirror_mode": {
    "name": "ipython",
    "version": 3
   },
   "file_extension": ".py",
   "mimetype": "text/x-python",
   "name": "python",
   "nbconvert_exporter": "python",
   "pygments_lexer": "ipython3",
   "version": "3.11.3"
  }
 },
 "nbformat": 4,
 "nbformat_minor": 5
}
