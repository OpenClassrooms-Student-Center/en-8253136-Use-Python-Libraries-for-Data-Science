{
 "cells": [
  {
   "cell_type": "markdown",
   "id": "58869009",
   "metadata": {},
   "source": [
    "![openclassrooms](https://s3.eu-west-1.amazonaws.com/course.oc-static.com/courses/6204541/1+HnqdJ-5ofxiPP9HIxdNdpw.jpeg)\n",
    "# Plot Charts Using Matplotlib\n",
    "You’re in the process of preparing a monthly report to present to your manager at the end of each month. The presentation will need to include some key charts, so you’ll have to use your data visualization skills to produce the different visuals your manager requires.\n",
    "\n",
    "The charts you need to produce are as follows:\n",
    "- Percentage of loans of each type\n",
    "- Monthly profit based on customer income for real estate loans only\n",
    "- Profit distribution\n",
    "- Total monthly profit by branch\n"
   ]
  },
  {
   "cell_type": "code",
   "execution_count": null,
   "id": "382f6237",
   "metadata": {},
   "outputs": [],
   "source": [
    "import numpy as np\n",
    "import pandas as pd\n",
    "import matplotlib.pyplot as plt"
   ]
  },
  {
   "cell_type": "markdown",
   "id": "a5d28f9c",
   "metadata": {},
   "source": [
    "To create these different charts, we’re going to use the enhanced loan data file ([see previous exercise](https://colab.research.google.com/github/OpenClassrooms-Student-Center/en-8253136-Use-Python-Libraries-for-Data-Science/blob/main/notebooks/P2/P2C3%20-%20Filter%20Data%20in%20a%20DataFrame%20-%20CORRECTION.ipynb)) that you can find [here](https://raw.githubusercontent.com/OpenClassrooms-Student-Center/en-8253136-Use-Python-Libraries-for-Data-Science/main/data/loans_final.csv):"
   ]
  },
  {
   "cell_type": "code",
   "execution_count": null,
   "id": "e0ac8d54",
   "metadata": {},
   "outputs": [],
   "source": [
    "loans = pd.read_csv('https://raw.githubusercontent.com/OpenClassrooms-Student-Center/en-8253136-Use-Python-Libraries-for-Data-Science/main/data/loans_final.csv')\n",
    "loans.head()"
   ]
  },
  {
   "cell_type": "markdown",
   "id": "392a36ff",
   "metadata": {},
   "source": [
    "## 1. Percentage of loans by loan type\n",
    "\n"
   ]
  },
  {
   "cell_type": "code",
   "execution_count": null,
   "id": "6f6b2e60",
   "metadata": {},
   "outputs": [],
   "source": []
  },
  {
   "cell_type": "markdown",
   "id": "4632ae25",
   "metadata": {},
   "source": [
    "## 2. Monthly profit based on customer income for real estate loans\n"
   ]
  },
  {
   "cell_type": "code",
   "execution_count": null,
   "id": "b7ecb30c",
   "metadata": {},
   "outputs": [],
   "source": []
  },
  {
   "cell_type": "markdown",
   "id": "acc57553",
   "metadata": {},
   "source": [
    "## 3. Profit distribution\n",
    "\n"
   ]
  },
  {
   "cell_type": "code",
   "execution_count": null,
   "id": "7f4f652e",
   "metadata": {},
   "outputs": [],
   "source": []
  },
  {
   "cell_type": "markdown",
   "id": "1b26465c",
   "metadata": {},
   "source": [
    "## 4. Total monthly profit by branch\n",
    "Because some of the city names are quite long, you can stretch the chart horizontally to make them fit using the following line:\n",
    "\n",
    "`plt.figure(figsize=(10,4))`"
   ]
  },
  {
   "cell_type": "code",
   "execution_count": null,
   "id": "e7a1cebb",
   "metadata": {},
   "outputs": [],
   "source": []
  },
  {
   "cell_type": "markdown",
   "id": "55c19e35",
   "metadata": {},
   "source": [
    "Well done for getting to the end! Here’s the [solution](https://colab.research.google.com/github/OpenClassrooms-Student-Center/en-8253136-Use-Python-Libraries-for-Data-Science/blob/main/notebooks/P3/P3C2%20-%20Plot%20Charts%20Using%20Matplotlib%20-%20CORRECTION.ipynb)."
   ]
  }
 ],
 "metadata": {
  "kernelspec": {
   "display_name": "Python 3 (ipykernel)",
   "language": "python",
   "name": "python3"
  },
  "language_info": {
   "codemirror_mode": {
    "name": "ipython",
    "version": 3
   },
   "file_extension": ".py",
   "mimetype": "text/x-python",
   "name": "python",
   "nbconvert_exporter": "python",
   "pygments_lexer": "ipython3",
   "version": "3.11.3"
  }
 },
 "nbformat": 4,
 "nbformat_minor": 5
}
