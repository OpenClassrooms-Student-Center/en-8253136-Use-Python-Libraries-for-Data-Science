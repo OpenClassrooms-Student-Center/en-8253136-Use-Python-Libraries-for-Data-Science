{
 "cells": [
  {
   "cell_type": "markdown",
   "id": "58869009",
   "metadata": {},
   "source": [
    "![openclassrooms](https://s3.eu-west-1.amazonaws.com/course.oc-static.com/courses/6204541/1+HnqdJ-5ofxiPP9HIxdNdpw.jpeg)\n",
    "# Transform Your Data Into Tables\n",
    "For this second task, we’ll continue working with these 10 customers, but this time we have three data items available for each:\n",
    "- Monthly income\n",
    "- Customer age\n",
    "- Number of children\n",
    "\n",
    "Your objective is to use this information to create a NumPy table and respond to various requests from the loans department by manipulating the table using the techniques we’ve shown you throughout this chapter.\n"
   ]
  },
  {
   "cell_type": "code",
   "execution_count": 1,
   "id": "0571c5c9",
   "metadata": {},
   "outputs": [],
   "source": [
    "import numpy as np"
   ]
  },
  {
   "cell_type": "markdown",
   "id": "78b861be",
   "metadata": {},
   "source": [
    "All of this data is contained in the following list, called `table`:"
   ]
  },
  {
   "cell_type": "code",
   "execution_count": 2,
   "id": "4d0af89d",
   "metadata": {},
   "outputs": [
    {
     "data": {
      "text/plain": [
       "[[1800, 21, 0],\n",
       " [1500, 54, 2],\n",
       " [2200, 28, 3],\n",
       " [3000, 37, 1],\n",
       " [2172, 37, 2],\n",
       " [5000, 32, 0],\n",
       " [1400, 23, 0],\n",
       " [1200, 25, 1],\n",
       " [1100, 19, 0],\n",
       " [1300, 31, 2]]"
      ]
     },
     "metadata": {},
     "output_type": "display_data"
    }
   ],
   "source": [
    "hugh = [1800, 21, 0]\n",
    "richard = [1500, 54, 2]\n",
    "emily = [2200, 28, 3]\n",
    "peter = [3000, 37, 1]\n",
    "paul = [2172, 37, 2]\n",
    "deborah = [5000, 32, 0]\n",
    "john = [1400, 23, 0]\n",
    "anne = [1200, 25, 1]\n",
    "tom = [1100, 19, 0]\n",
    "edward = [1300, 31, 2]\n",
    "\n",
    "table = [hugh, richard, emily, peter, paul, deborah,\n",
    "           john, anne, tom, edward]\n",
    "\n",
    "display(table)"
   ]
  },
  {
   "cell_type": "markdown",
   "id": "0e5af3f0",
   "metadata": {},
   "source": [
    "Use this list to create an array called data"
   ]
  },
  {
   "cell_type": "code",
   "execution_count": 5,
   "id": "78351305",
   "metadata": {},
   "outputs": [],
   "source": [
    "data = "
   ]
  },
  {
   "cell_type": "markdown",
   "id": "944ce674",
   "metadata": {},
   "source": [
    "Paul would like to take out a real estate loan:\n",
    "\n",
    "- Display the information that relates to him. As a reminder, Paul’s data is shown in the fifth row of data.\n",
    "- Calculate his maximum monthly repayment amount based on the fact that the maximum debt-to-income ratio is 35% (meaning that his monthly repayment amount cannot be more than 35% of his monthly income).\n"
   ]
  },
  {
   "cell_type": "code",
   "execution_count": null,
   "id": "0f1e6c7f",
   "metadata": {},
   "outputs": [],
   "source": []
  },
  {
   "cell_type": "markdown",
   "id": "3392ff9e",
   "metadata": {},
   "source": [
    "Because Paul is our fifth customer, we’ll find his data at integer position 4. Initially, we want to access all of his details (all variables), so we can use the : operator. Then, to do a calculation based on his income, we only access the relevant column."
   ]
  },
  {
   "cell_type": "code",
   "execution_count": 11,
   "id": "e897bd06",
   "metadata": {},
   "outputs": [],
   "source": [
    "louise = [1900, 31, 1]"
   ]
  },
  {
   "cell_type": "markdown",
   "id": "bcfd3de8",
   "metadata": {},
   "source": [
    "Add this information to the end of your data array:"
   ]
  },
  {
   "cell_type": "code",
   "execution_count": 12,
   "id": "68af1f82",
   "metadata": {},
   "outputs": [],
   "source": [
    "data = "
   ]
  },
  {
   "cell_type": "markdown",
   "id": "f17a451a",
   "metadata": {},
   "source": [
    "Store all data relating to customer salary in a variable called income:"
   ]
  },
  {
   "cell_type": "code",
   "execution_count": null,
   "id": "16bfc244",
   "metadata": {},
   "outputs": [],
   "source": [
    "income = "
   ]
  },
  {
   "cell_type": "markdown",
   "id": "9329cd38",
   "metadata": {},
   "source": [
    "Well done!\n",
    "As always, you’ll find our suggested answer in full in the solution, so you can use it to check your work or understand anything you weren’t sure about: [link to solution](https://colab.research.google.com/github/OpenClassrooms-Student-Center/en-8253136-Use-Python-Libraries-for-Data-Science/blob/main/notebooks/P1/P1C4%20-%20Transform%20Your%20Data%20Into%20Tables%20-%20CORRECTION.ipynb).\n"
   ]
  },
  {
   "cell_type": "code",
   "execution_count": null,
   "id": "595f47b9",
   "metadata": {},
   "outputs": [],
   "source": []
  }
 ],
 "metadata": {
  "kernelspec": {
   "display_name": "Python 3 (ipykernel)",
   "language": "python",
   "name": "python3"
  },
  "language_info": {
   "codemirror_mode": {
    "name": "ipython",
    "version": 3
   },
   "file_extension": ".py",
   "mimetype": "text/x-python",
   "name": "python",
   "nbconvert_exporter": "python",
   "pygments_lexer": "ipython3",
   "version": "3.11.3"
  }
 },
 "nbformat": 4,
 "nbformat_minor": 5
}
