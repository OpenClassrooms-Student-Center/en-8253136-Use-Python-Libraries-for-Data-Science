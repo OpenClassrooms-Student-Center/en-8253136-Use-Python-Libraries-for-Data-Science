{
 "cells": [
  {
   "cell_type": "markdown",
   "id": "58869009",
   "metadata": {},
   "source": [
    "![openclassrooms](https://s3.eu-west-1.amazonaws.com/course.oc-static.com/courses/6204541/1+HnqdJ-5ofxiPP9HIxdNdpw.jpeg)\n",
    "# Create Your First Arrays Using NumPy\n",
    "Throughout this course, you’re going to be playing the role of someone who works in the data team within a bank. More specifically, you work in the loans department. Your aim is to use your new-found Python libraries knowledge to help the team with various tasks. \n",
    "\n",
    "For your first task, we've provided you with income levels for 10 of our bank’s customers. You’ll use the various data manipulation techniques in this chapter to select customer income levels based on specific conditions and perform certain operations.\n"
   ]
  },
  {
   "cell_type": "code",
   "execution_count": 32,
   "id": "cdb527db",
   "metadata": {},
   "outputs": [],
   "source": [
    "import numpy as np"
   ]
  },
  {
   "cell_type": "markdown",
   "id": "d56213d2",
   "metadata": {},
   "source": [
    "Let’s look at the following monthly income figures:"
   ]
  },
  {
   "cell_type": "code",
   "execution_count": 33,
   "id": "6e44e0b7",
   "metadata": {},
   "outputs": [],
   "source": [
    "list = [1800, 1500, 2200, 3000, 2172, 5000, 1400, 1200, 1100, 1300]"
   ]
  },
  {
   "cell_type": "markdown",
   "id": "9460fc72",
   "metadata": {},
   "source": [
    "Based on this income data, create an array that you’ll name `income`:"
   ]
  },
  {
   "cell_type": "code",
   "execution_count": 34,
   "id": "a917ad71",
   "metadata": {},
   "outputs": [
    {
     "data": {
      "text/plain": [
       "array([1800, 1500, 2200, 3000, 2172, 5000, 1400, 1200, 1100, 1300])"
      ]
     },
     "metadata": {},
     "output_type": "display_data"
    }
   ],
   "source": [
    "income = np.array(list)\n",
    "display(income)"
   ]
  },
  {
   "cell_type": "markdown",
   "id": "2727231a",
   "metadata": {},
   "source": [
    "Now, create a new array called `high_income`, which will select all income levels greater than or equal to $3000 per month:"
   ]
  },
  {
   "cell_type": "code",
   "execution_count": 35,
   "id": "9401be0f",
   "metadata": {},
   "outputs": [
    {
     "data": {
      "text/plain": [
       "array([3000, 5000])"
      ]
     },
     "metadata": {},
     "output_type": "display_data"
    }
   ],
   "source": [
    "high_income = income[income>=3000]\n",
    "display(high_income)\n"
   ]
  },
  {
   "cell_type": "markdown",
   "id": "9f00bacd",
   "metadata": {},
   "source": [
    "Note that in Python, you can define your **thousands separator** as '_' (underscore) to make the number easier to understand, e.g., “1_000_000” rather than “1000000.”"
   ]
  },
  {
   "cell_type": "code",
   "execution_count": 36,
   "id": "48de2233",
   "metadata": {},
   "outputs": [
    {
     "data": {
      "text/plain": [
       "array([3000, 5000])"
      ]
     },
     "execution_count": 36,
     "metadata": {},
     "output_type": "execute_result"
    }
   ],
   "source": [
    "high_income = income[income>=3_000]\n",
    "high_income\n"
   ]
  },
  {
   "cell_type": "markdown",
   "id": "3c2c0b01",
   "metadata": {},
   "source": [
    "Now it’s time to calculate a few results:\n",
    "* Firstly, calculate the sum of all **annual** income figures. Just as a reminder, the above income levels are monthly.\n",
    "* Then calculate the average income of these 10 customers.\n"
   ]
  },
  {
   "cell_type": "code",
   "execution_count": 37,
   "id": "444c2f12",
   "metadata": {},
   "outputs": [
    {
     "data": {
      "text/plain": [
       "20672"
      ]
     },
     "execution_count": 37,
     "metadata": {},
     "output_type": "execute_result"
    }
   ],
   "source": [
    "# Calculating the sum \n",
    "\n",
    "sum_monthly = income.sum()\n",
    "sum_monthly"
   ]
  },
  {
   "cell_type": "code",
   "execution_count": 38,
   "id": "762d3c3a",
   "metadata": {},
   "outputs": [
    {
     "data": {
      "text/plain": [
       "248064"
      ]
     },
     "execution_count": 38,
     "metadata": {},
     "output_type": "execute_result"
    }
   ],
   "source": [
    "# Multiply by 12 \n",
    "\n",
    "sum_income = sum_monthly * 12\n",
    "sum_income"
   ]
  },
  {
   "cell_type": "markdown",
   "id": "92bed730",
   "metadata": {},
   "source": [
    "When you’re starting out, it’s a good idea to **break down** your code. Writing code in multiple lines and using intermediate variables to help you control the result of each command will help you avoid **errors** and increase **confidence** in your code to ensure that you **fully understand** what you’re learning.\n",
    "\n",
    "Then you can start **condensing** your code, i.e., compressing it by writing several commands in just one line of code without using intermediate variables."
   ]
  },
  {
   "cell_type": "code",
   "execution_count": 39,
   "id": "b57555ed",
   "metadata": {},
   "outputs": [
    {
     "name": "stdout",
     "output_type": "stream",
     "text": [
      "The sum of annual income levels is: $ 248064\n"
     ]
    }
   ],
   "source": [
    "# You can combine the two operations into a single line: \n",
    "\n",
    "sum_income = income.sum() * 12\n",
    "print(\"The sum of annual income levels is:\", \"$\", sum_income)"
   ]
  },
  {
   "cell_type": "markdown",
   "id": "77d97840",
   "metadata": {},
   "source": [
    "In some cases, the **order of operations** has no effect on the result"
   ]
  },
  {
   "cell_type": "code",
   "execution_count": 40,
   "id": "d04ce867",
   "metadata": {},
   "outputs": [
    {
     "name": "stdout",
     "output_type": "stream",
     "text": [
      "The sum of annual income levels is: $ 248064\n"
     ]
    }
   ],
   "source": [
    "# So, we could also have said: \n",
    "\n",
    "sum_income = (income * 12).sum()\n",
    "print(\"The sum of annual income levels is:\", \"$\", sum_income)"
   ]
  },
  {
   "cell_type": "markdown",
   "id": "4d400c60",
   "metadata": {},
   "source": [
    "In general, we would display “big” numbers as $k or $m, as this makes them easier to read. Readers tend to find it easier to understand a ballpark figure, or a rounded-up figure, rather than an exact number."
   ]
  },
  {
   "cell_type": "code",
   "execution_count": 41,
   "id": "6ce7df53",
   "metadata": {},
   "outputs": [
    {
     "name": "stdout",
     "output_type": "stream",
     "text": [
      "The sum of annual income levels is: $ 248 k\n"
     ]
    }
   ],
   "source": [
    "# Example: \n",
    "\n",
    "sum_income_K = round(sum_income / 1000)\n",
    "print(\"The sum of annual income levels is:\", \"$\", sum_income_K, \"k\")"
   ]
  },
  {
   "cell_type": "code",
   "execution_count": 42,
   "id": "202b697e",
   "metadata": {},
   "outputs": [
    {
     "name": "stdout",
     "output_type": "stream",
     "text": [
      "The sum of annual income levels is around: $ 250 k\n"
     ]
    }
   ],
   "source": [
    "# Or even: \n",
    "\n",
    "print(\"The sum of annual income levels is around:\", \"$\", 250, \"k\")"
   ]
  },
  {
   "cell_type": "code",
   "execution_count": 48,
   "id": "d8b4252b",
   "metadata": {},
   "outputs": [
    {
     "name": "stdout",
     "output_type": "stream",
     "text": [
      "The sum of annual income levels is: $ 0.25 m\n"
     ]
    }
   ],
   "source": [
    "# Or perhaps: \n",
    "\n",
    "sum_income_M = round(sum_income / 1_000_000,2)\n",
    "print(\"The sum of annual income levels is:\", \"$\", sum_income_M,  \"m\")"
   ]
  },
  {
   "cell_type": "markdown",
   "id": "60e4caf5",
   "metadata": {},
   "source": [
    "Let’s move on to the average income."
   ]
  },
  {
   "cell_type": "code",
   "execution_count": 49,
   "id": "06c6fe2b",
   "metadata": {},
   "outputs": [
    {
     "name": "stdout",
     "output_type": "stream",
     "text": [
      "The average monthly income is: $ 2087.2\n"
     ]
    }
   ],
   "source": [
    "average = income.mean()\n",
    "print(\"The average monthly income is:\", \"$\", average)"
   ]
  },
  {
   "cell_type": "code",
   "execution_count": 50,
   "id": "bc9b6ca4",
   "metadata": {},
   "outputs": [
    {
     "name": "stdout",
     "output_type": "stream",
     "text": [
      "The average monthly income is: $ 2087\n"
     ]
    }
   ],
   "source": [
    "# Or perhaps: \n",
    "average = round(average)\n",
    "print(\"The average monthly income is:\", \"$\", average)"
   ]
  },
  {
   "cell_type": "markdown",
   "id": "ce423462",
   "metadata": {},
   "source": [
    "One of our customers (with a monthly income currently at $1400) has just told us that they’ve had a promotion. "
   ]
  },
  {
   "cell_type": "markdown",
   "id": "85993c78",
   "metadata": {},
   "source": [
    "As a result, they now earn an additional $200 on top of their current monthly salary. Apply this update to your income array."
   ]
  },
  {
   "cell_type": "code",
   "execution_count": 51,
   "id": "b426ca92",
   "metadata": {},
   "outputs": [
    {
     "name": "stdout",
     "output_type": "stream",
     "text": [
      "Array before: [1800 1500 2200 3000 2172 5000 1600 1200 1100 1300]\n",
      "Array after: [1800 1500 2200 3000 2172 5000 1600 1200 1100 1300]\n"
     ]
    }
   ],
   "source": [
    "print(\"Array before:\", income)\n",
    "\n",
    "income[income == 1400] = 1600\n",
    "print(\"Array after:\", income)"
   ]
  },
  {
   "cell_type": "markdown",
   "id": "edbee87b",
   "metadata": {},
   "source": [
    "The update has been applied.\n",
    "\n",
    "Let’s break this code down a bit more:\n",
    "\n",
    "* `income[income == 1400]` selects all elements that are exactly equal to $1400 (which, in this case, is the only one we’re interested in).\n",
    "* And the next bit updates the element with the new value (in our case, 1600).\n",
    "\n",
    "In this line of code, we could also have used the ’+=’ operator to give `income[income == 1400] += 200`"
   ]
  }
 ],
 "metadata": {
  "kernelspec": {
   "display_name": "Python 3 (ipykernel)",
   "language": "python",
   "name": "python3"
  },
  "language_info": {
   "codemirror_mode": {
    "name": "ipython",
    "version": 3
   },
   "file_extension": ".py",
   "mimetype": "text/x-python",
   "name": "python",
   "nbconvert_exporter": "python",
   "pygments_lexer": "ipython3",
   "version": "3.11.3"
  }
 },
 "nbformat": 4,
 "nbformat_minor": 5
}
