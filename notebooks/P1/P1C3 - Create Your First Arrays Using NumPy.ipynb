{
 "cells": [
  {
   "cell_type": "markdown",
   "id": "58869009",
   "metadata": {},
   "source": [
    "![openclassrooms](https://s3.eu-west-1.amazonaws.com/course.oc-static.com/courses/6204541/1+HnqdJ-5ofxiPP9HIxdNdpw.jpeg)\n",
    "# Create Your First Arrays Using NumPy\n",
    "Throughout this course, you’re going to be playing the role of someone who works in the data team within a bank. More specifically, you work in the loans department. Your aim is to use your new-found Python libraries knowledge to help the team with various tasks. \n",
    "\n",
    "For your first task, we've provided you with income levels for 10 of our bank’s customers. You’ll use the various data manipulation techniques in this chapter to select customer income levels based on specific conditions and perform certain operations.\n"
   ]
  },
  {
   "cell_type": "code",
   "execution_count": 1,
   "id": "cdb527db",
   "metadata": {},
   "outputs": [],
   "source": [
    "import numpy as np"
   ]
  },
  {
   "cell_type": "markdown",
   "id": "d56213d2",
   "metadata": {},
   "source": [
    "Let’s look at the following monthly income figures:"
   ]
  },
  {
   "cell_type": "code",
   "execution_count": 2,
   "id": "6e44e0b7",
   "metadata": {},
   "outputs": [],
   "source": [
    "list = [1800, 1500, 2200, 3000, 2172, 5000, 1400, 1200, 1100, 1300]"
   ]
  },
  {
   "cell_type": "markdown",
   "id": "9460fc72",
   "metadata": {},
   "source": [
    "Based on this income data, create an array that you’ll name `income`:"
   ]
  },
  {
   "cell_type": "code",
   "execution_count": null,
   "id": "a917ad71",
   "metadata": {},
   "outputs": [],
   "source": [
    "income ="
   ]
  },
  {
   "cell_type": "markdown",
   "id": "2727231a",
   "metadata": {},
   "source": [
    "Now, create a new array called `high_income`, which will select all income levels greater than or equal to \\\\$3000 per month:"
   ]
  },
  {
   "cell_type": "code",
   "execution_count": null,
   "id": "9401be0f",
   "metadata": {},
   "outputs": [],
   "source": [
    "high_income = "
   ]
  },
  {
   "cell_type": "markdown",
   "id": "3c2c0b01",
   "metadata": {},
   "source": [
    "Now it’s time to calculate a few results:\n",
    "* Firstly, calculate the sum of all **annual** income figures. Just as a reminder, the above income levels are monthly.\n",
    "* Then calculate the average income of these 10 customers.\n"
   ]
  },
  {
   "cell_type": "code",
   "execution_count": null,
   "id": "444c2f12",
   "metadata": {},
   "outputs": [],
   "source": [
    "sum =  "
   ]
  },
  {
   "cell_type": "code",
   "execution_count": null,
   "id": "762d3c3a",
   "metadata": {},
   "outputs": [],
   "source": [
    "average = "
   ]
  },
  {
   "cell_type": "markdown",
   "id": "ce423462",
   "metadata": {},
   "source": [
    "One of our customers (with a monthly income currently at $1400) has just told us that they’ve had a promotion. \n"
   ]
  },
  {
   "cell_type": "markdown",
   "id": "f393fbb5",
   "metadata": {},
   "source": [
    "As a result, they now earn an additional $200 on top of their current monthly salary. Apply this update to your income array."
   ]
  },
  {
   "cell_type": "code",
   "execution_count": null,
   "id": "b426ca92",
   "metadata": {},
   "outputs": [],
   "source": []
  },
  {
   "cell_type": "markdown",
   "id": "ed4d140c",
   "metadata": {},
   "source": [
    "Well done for getting to the end!\n",
    "\n",
    "If you struggled a bit with the exercise, don’t worry. :)\n",
    "\n",
    "Go ahead and check the solution, which will give you the full answer: [link to solution](https://colab.research.google.com/github/OpenClassrooms-Student-Center/en-8253136-Use-Python-Libraries-for-Data-Science/blob/main/notebooks/P1/P1C3%20-%20Create%20Your%20First%20Arrays%20Using%20NumPy%20-%20CORRECTION.ipynb).\n"
   ]
  }
 ],
 "metadata": {
  "kernelspec": {
   "display_name": "Python 3 (ipykernel)",
   "language": "python",
   "name": "python3"
  },
  "language_info": {
   "codemirror_mode": {
    "name": "ipython",
    "version": 3
   },
   "file_extension": ".py",
   "mimetype": "text/x-python",
   "name": "python",
   "nbconvert_exporter": "python",
   "pygments_lexer": "ipython3",
   "version": "3.11.3"
  }
 },
 "nbformat": 4,
 "nbformat_minor": 5
}
